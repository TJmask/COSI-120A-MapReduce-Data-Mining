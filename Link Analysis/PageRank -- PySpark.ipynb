{
 "cells": [
  {
   "cell_type": "code",
   "execution_count": 1,
   "metadata": {},
   "outputs": [],
   "source": [
    "from pyspark import SparkContext \n",
    "from pyspark import SQLContext\n",
    "import sys\n",
    "import os\n",
    "from operator import add"
   ]
  },
  {
   "cell_type": "markdown",
   "metadata": {},
   "source": [
    "## Build Spark Context"
   ]
  },
  {
   "cell_type": "code",
   "execution_count": 2,
   "metadata": {},
   "outputs": [
    {
     "data": {
      "text/html": [
       "\n",
       "        <div>\n",
       "            <p><b>SparkContext</b></p>\n",
       "\n",
       "            <p><a href=\"http://192.168.7.29:4040\">Spark UI</a></p>\n",
       "\n",
       "            <dl>\n",
       "              <dt>Version</dt>\n",
       "                <dd><code>v2.4.5</code></dd>\n",
       "              <dt>Master</dt>\n",
       "                <dd><code>local</code></dd>\n",
       "              <dt>AppName</dt>\n",
       "                <dd><code>Page Rank</code></dd>\n",
       "            </dl>\n",
       "        </div>\n",
       "        "
      ],
      "text/plain": [
       "<SparkContext master=local appName=Page Rank>"
      ]
     },
     "execution_count": 2,
     "metadata": {},
     "output_type": "execute_result"
    }
   ],
   "source": [
    "sc = SparkContext(appName ='Page Rank', master = 'local')\n",
    "sc"
   ]
  },
  {
   "cell_type": "markdown",
   "metadata": {},
   "source": [
    "## Data Overview"
   ]
  },
  {
   "cell_type": "code",
   "execution_count": 3,
   "metadata": {},
   "outputs": [],
   "source": [
    "path = '/Users/tjmask/Desktop/Semester 3/MapReduce/homework/hw3/'\n",
    "data = sc.textFile(path+'web-BerkStan.txt')"
   ]
  },
  {
   "cell_type": "code",
   "execution_count": 4,
   "metadata": {},
   "outputs": [
    {
     "data": {
      "text/plain": [
       "['1\\t2',\n",
       " '1\\t5',\n",
       " '1\\t7',\n",
       " '1\\t8',\n",
       " '1\\t9',\n",
       " '1\\t11',\n",
       " '1\\t17',\n",
       " '1\\t254913',\n",
       " '1\\t438238',\n",
       " '254913\\t255378']"
      ]
     },
     "execution_count": 4,
     "metadata": {},
     "output_type": "execute_result"
    }
   ],
   "source": [
    "data.take(10)"
   ]
  },
  {
   "cell_type": "code",
   "execution_count": 5,
   "metadata": {},
   "outputs": [],
   "source": [
    "def splitting(lines):\n",
    "    lines = lines.split('\\t')\n",
    "    return (lines[0], lines[1])"
   ]
  },
  {
   "cell_type": "code",
   "execution_count": 6,
   "metadata": {},
   "outputs": [
    {
     "data": {
      "text/plain": [
       "[('1', '2'),\n",
       " ('1', '5'),\n",
       " ('1', '7'),\n",
       " ('1', '8'),\n",
       " ('1', '9'),\n",
       " ('1', '11'),\n",
       " ('1', '17'),\n",
       " ('1', '254913'),\n",
       " ('1', '438238'),\n",
       " ('254913', '255378')]"
      ]
     },
     "execution_count": 6,
     "metadata": {},
     "output_type": "execute_result"
    }
   ],
   "source": [
    "data_splitted = data.map(splitting)\n",
    "data_splitted.take(10)"
   ]
  },
  {
   "cell_type": "markdown",
   "metadata": {},
   "source": [
    "## Page Rank"
   ]
  },
  {
   "cell_type": "code",
   "execution_count": 15,
   "metadata": {},
   "outputs": [],
   "source": [
    "def computeContribs(urls, rank):\n",
    "    \"\"\"Calculates URL contributions to the rank of other URLs.\"\"\"\n",
    "    num_urls = len(urls)\n",
    "    for url in urls:\n",
    "        yield (url, rank / num_urls)"
   ]
  },
  {
   "cell_type": "code",
   "execution_count": 45,
   "metadata": {},
   "outputs": [],
   "source": [
    "# Loads all URLs from input file and initialize their neighbors.\n",
    "links = data_splitted.groupByKey().cache()\n",
    "\n",
    "# Loads all URLs with other URL(s) link to from input file and initialize ranks of them to one.\n",
    "ranks = links.map(lambda url_neighbors: (url_neighbors[0], 1.0/685230.0))"
   ]
  },
  {
   "cell_type": "code",
   "execution_count": 46,
   "metadata": {},
   "outputs": [
    {
     "name": "stdout",
     "output_type": "stream",
     "text": [
      "top 100 links are as follows: \n",
      "272919 has rank: 5135.337685312974.\n",
      "438238 has rank: 3491.0960312742745.\n",
      "571448 has rank: 1864.6376899641693.\n",
      "601656 has rank: 1602.690114457544.\n",
      "319209 has rank: 1399.2280593912456.\n",
      "316792 has rank: 1332.0106563322552.\n",
      "184094 has rank: 1282.3453401223012.\n",
      "401873 has rank: 1180.345170594501.\n",
      "571447 has rank: 1148.8928422268498.\n",
      "284306 has rank: 1138.1227323344524.\n",
      "768 has rank: 1082.2358974713154.\n",
      "927 has rank: 1010.7247942388504.\n",
      "66244 has rank: 973.5471932820052.\n",
      "68949 has rank: 972.971066110794.\n",
      "68948 has rank: 965.9204723030336.\n",
      "95552 has rank: 954.2712527121563.\n",
      "77284 has rank: 954.2712527121563.\n",
      "86237 has rank: 954.2712527121563.\n",
      "95551 has rank: 954.2712527121563.\n",
      "68947 has rank: 954.2712527121563.\n",
      "96070 has rank: 954.2712527121563.\n",
      "86238 has rank: 954.2712527121563.\n",
      "68946 has rank: 954.2712527121563.\n",
      "86239 has rank: 954.2712527121563.\n",
      "66909 has rank: 954.2712527121563.\n",
      "184142 has rank: 781.19488314776.\n",
      "299039 has rank: 770.664978342663.\n",
      "571451 has rank: 749.2130806752585.\n",
      "570985 has rank: 744.4415127078548.\n",
      "299040 has rank: 721.5266967317406.\n",
      "319412 has rank: 717.3411614327924.\n",
      "184332 has rank: 699.2691386429796.\n",
      "544858 has rank: 696.2733111716047.\n",
      "184279 has rank: 696.2363943850149.\n",
      "743 has rank: 658.9839350008582.\n",
      "313077 has rank: 656.8659266183371.\n",
      "95527 has rank: 652.4589778007157.\n",
      "100130 has rank: 650.0383532746306.\n",
      "101163 has rank: 647.7388819513613.\n",
      "95018 has rank: 646.8434273879923.\n",
      "100646 has rank: 645.8693341278272.\n",
      "96045 has rank: 642.355920446252.\n",
      "66879 has rank: 634.6726840931858.\n",
      "319210 has rank: 634.5704693565365.\n",
      "33 has rank: 628.6997648124054.\n",
      "210376 has rank: 578.3363898429868.\n",
      "210305 has rank: 572.9456902383723.\n",
      "331840 has rank: 563.2218700696069.\n",
      "451016 has rank: 529.3937614365551.\n",
      "184150 has rank: 484.6948160832618.\n",
      "184137 has rank: 475.30816057033394.\n",
      "184276 has rank: 471.06922717690793.\n",
      "184330 has rank: 469.5328927254763.\n",
      "184324 has rank: 469.2943600759948.\n",
      "184338 has rank: 440.42416498450746.\n",
      "49176 has rank: 435.55950166589884.\n",
      "406550 has rank: 427.8889133815207.\n",
      "479054 has rank: 411.9398499282199.\n",
      "55913 has rank: 410.52932232268415.\n",
      "477985 has rank: 409.2460860051755.\n",
      "270625 has rank: 404.9043373059311.\n",
      "53427 has rank: 393.07600672293415.\n",
      "477172 has rank: 390.0292860524766.\n",
      "481959 has rank: 390.02928605247655.\n",
      "313353 has rank: 380.24815784083995.\n",
      "54008 has rank: 340.2014792861356.\n",
      "55912 has rank: 340.1991341993106.\n",
      "45327 has rank: 334.84227339533606.\n",
      "546675 has rank: 334.63231182294004.\n",
      "48633 has rank: 308.3478126291303.\n",
      "273278 has rank: 308.31591290302384.\n",
      "280874 has rank: 307.9513833610385.\n",
      "210139 has rank: 298.9264154985077.\n",
      "546708 has rank: 293.61067314683453.\n",
      "502214 has rank: 284.64743751954563.\n",
      "501481 has rank: 282.908605285269.\n",
      "623254 has rank: 272.2648928376461.\n",
      "500928 has rank: 269.4905735263818.\n",
      "504070 has rank: 269.4905735263818.\n",
      "417965 has rank: 265.0462311452805.\n",
      "210142 has rank: 257.1757602490393.\n",
      "571445 has rank: 252.622322324123.\n",
      "602775 has rank: 251.52730760568696.\n",
      "280873 has rank: 250.3538963211823.\n",
      "613955 has rank: 246.0579406353322.\n",
      "331838 has rank: 245.816452466182.\n",
      "331839 has rank: 245.816452466182.\n",
      "331846 has rank: 245.816452466182.\n",
      "623267 has rank: 241.96484605237256.\n",
      "45955 has rank: 240.55650479621985.\n",
      "48634 has rank: 240.5565047962198.\n",
      "623783 has rank: 235.37503535917256.\n",
      "430966 has rank: 235.320829218094.\n",
      "657843 has rank: 231.31507181281418.\n",
      "657219 has rank: 230.56502494797613.\n",
      "158750 has rank: 226.13077621116702.\n",
      "627015 has rank: 224.4436496957745.\n",
      "316012 has rank: 223.34745747990345.\n",
      "571456 has rank: 222.25883118536441.\n",
      "659361 has rank: 218.99085075580007.\n",
      "total time is 373.60817694664 second.\n"
     ]
    }
   ],
   "source": [
    "from time import *\n",
    "a = time()\n",
    "\n",
    "# Calculates and updates URL ranks continuously using PageRank algorithm.\n",
    "for iteration in range(10):\n",
    "    # Calculates URL contributions to the rank of other URLs.\n",
    "    contribs = links.join(ranks).flatMap(\n",
    "        lambda url_urls_rank: computeContribs(url_urls_rank[1][0], url_urls_rank[1][1]))\n",
    "\n",
    "    # Re-calculates URL ranks based on neighbor contributions.\n",
    "    ranks = contribs.reduceByKey(add).mapValues(lambda rank: rank * 0.85 + 0.15)\n",
    "\n",
    "\n",
    "## rank them and take the top 100\n",
    "ranks = ranks.top(100, key=lambda items: items[1])\n",
    "\n",
    "print(\"top 100 links are as follows: \")\n",
    "for (link, rank) in ranks:\n",
    "    print(\"%s has rank: %s.\" % (link, rank))\n",
    "\n",
    "b = time()\n",
    "print('total time is %s second.' % (b-a))"
   ]
  },
  {
   "cell_type": "code",
   "execution_count": null,
   "metadata": {},
   "outputs": [],
   "source": []
  },
  {
   "cell_type": "code",
   "execution_count": null,
   "metadata": {},
   "outputs": [],
   "source": []
  }
 ],
 "metadata": {
  "kernelspec": {
   "display_name": "Python 3",
   "language": "python",
   "name": "python3"
  },
  "language_info": {
   "codemirror_mode": {
    "name": "ipython",
    "version": 3
   },
   "file_extension": ".py",
   "mimetype": "text/x-python",
   "name": "python",
   "nbconvert_exporter": "python",
   "pygments_lexer": "ipython3",
   "version": "3.7.6"
  }
 },
 "nbformat": 4,
 "nbformat_minor": 4
}
