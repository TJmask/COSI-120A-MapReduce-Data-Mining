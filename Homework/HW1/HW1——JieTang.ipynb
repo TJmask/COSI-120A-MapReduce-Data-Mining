{
 "cells": [
  {
   "cell_type": "markdown",
   "metadata": {},
   "source": [
    "## K-means MapReduce(random initialization)"
   ]
  },
  {
   "cell_type": "code",
   "execution_count": 150,
   "metadata": {},
   "outputs": [],
   "source": [
    "import numpy as np\n",
    "import math\n",
    "\n",
    "def KmeansMapReduce(data, K, Maxiter=50, ObjV =math.inf, threshold = 0.01, centroids = False):\n",
    "    centroids = initializeCentroid(data, K)\n",
    "    for i in range(Maxiter):\n",
    "        data_plus_clusterid, New_ObjV = mapper(data, centroids)\n",
    "        centroids, labels = reducer(data, K, centroids)\n",
    "        if ObjV-New_ObjV > threshold:\n",
    "            ObjV = New_ObjV\n",
    "    return labels, centroids, ObjV\n",
    "    \n",
    "## initialize k centroids randomly\n",
    "def initializeCentroid(data, K):\n",
    "    return data[np.random.choice(len(data), K, replace=False)]\n",
    "\n",
    "## the map process\n",
    "def mapper(data,centroids):\n",
    "    nearest_centroid_matrix = np.array([centroids[np.argmin(np.sqrt(np.sum((data[i]-centroids)**2, axis=1)))] for i in range(len(data))])\n",
    "    cluster_id = np.array([np.argmin(np.sqrt(np.sum((data[i]-centroids)**2, axis=1))) for i in range(len(data))])\n",
    "    objV = np.sum([np.sum((data[i]-centroids)**2) for i in range(len(data))])\n",
    "    data_plus_clusterid = np.hstack([cluster_id.reshape(len(cluster_id),1), data])\n",
    "    return data_plus_clusterid, objV\n",
    "\n",
    "## the reduce process\n",
    "def reducer(data, K, centroids):\n",
    "    data_plus_clusterid, objV = mapper(data, centroids)\n",
    "    labels = data_plus_clusterid[:,0].reshape(len(data),1)\n",
    "    labels = np.array(labels).reshape(-1)\n",
    "    updated_centroid = np.array([np.mean(data_plus_clusterid[:,1:][labels==k], axis=0) for k in range(K)])\n",
    "    return updated_centroid, labels"
   ]
  },
  {
   "cell_type": "code",
   "execution_count": 153,
   "metadata": {},
   "outputs": [],
   "source": [
    "from tensorflow.keras.datasets import mnist\n",
    "(X_train, Y_train), (X_test, Y_test) = mnist.load_data()"
   ]
  },
  {
   "cell_type": "code",
   "execution_count": 160,
   "metadata": {},
   "outputs": [],
   "source": [
    "labels, centroids, ObjV = KmeansMapReduce(X_test.reshape(10000,784), 10, Maxiter=50)"
   ]
  },
  {
   "cell_type": "code",
   "execution_count": 161,
   "metadata": {},
   "outputs": [
    {
     "data": {
      "text/plain": [
       "0.2336"
      ]
     },
     "execution_count": 161,
     "metadata": {},
     "output_type": "execute_result"
    }
   ],
   "source": [
    "from sklearn.metrics import accuracy_score\n",
    "accuracy_score(labels, Y_test)"
   ]
  },
  {
   "cell_type": "code",
   "execution_count": 141,
   "metadata": {},
   "outputs": [
    {
     "data": {
      "text/plain": [
       "array([7, 2, 1, 0, 4, 1, 4, 9, 5, 9, 0, 6, 9, 0, 1, 5, 9, 7, 3, 4, 9, 6,\n",
       "       6, 5, 4, 0, 7, 4, 0, 1, 3, 1, 3, 4, 7, 2, 7, 1, 2, 1, 1, 7, 4, 2,\n",
       "       3, 5, 1, 2, 4, 4, 6, 3, 5, 5, 6, 0, 4, 1, 9, 5, 7, 8, 9, 3, 7, 4,\n",
       "       6, 4, 3, 0, 7, 0, 2, 9, 1, 7, 3, 2, 9, 7, 7, 6, 2, 7, 8, 4, 7, 3,\n",
       "       6, 1, 3, 6, 9, 3, 1, 4, 1, 7, 6, 9], dtype=uint8)"
      ]
     },
     "execution_count": 141,
     "metadata": {},
     "output_type": "execute_result"
    }
   ],
   "source": [
    "Y_test[0:100]"
   ]
  },
  {
   "cell_type": "code",
   "execution_count": 135,
   "metadata": {},
   "outputs": [
    {
     "data": {
      "text/plain": [
       "(10000, 28, 28)"
      ]
     },
     "execution_count": 135,
     "metadata": {},
     "output_type": "execute_result"
    }
   ],
   "source": [
    "X_test.shape"
   ]
  },
  {
   "cell_type": "code",
   "execution_count": null,
   "metadata": {},
   "outputs": [],
   "source": []
  }
 ],
 "metadata": {
  "kernelspec": {
   "display_name": "Python 3",
   "language": "python",
   "name": "python3"
  },
  "language_info": {
   "codemirror_mode": {
    "name": "ipython",
    "version": 3
   },
   "file_extension": ".py",
   "mimetype": "text/x-python",
   "name": "python",
   "nbconvert_exporter": "python",
   "pygments_lexer": "ipython3",
   "version": "3.7.6"
  }
 },
 "nbformat": 4,
 "nbformat_minor": 4
}
